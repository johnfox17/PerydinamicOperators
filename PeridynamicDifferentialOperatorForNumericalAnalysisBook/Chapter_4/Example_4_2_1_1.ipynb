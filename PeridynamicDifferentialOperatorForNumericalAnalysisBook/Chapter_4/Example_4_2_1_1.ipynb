{
 "cells": [
  {
   "cell_type": "markdown",
   "metadata": {},
   "source": [
    "### Example 4.2.1.1: 1-D interpolation on equally spaced input points"
   ]
  },
  {
   "cell_type": "code",
   "execution_count": 1,
   "metadata": {},
   "outputs": [],
   "source": [
    "#Setting Peridynamic parameters\n",
    "class PDoperator_:\n",
    "  def __init__(self, number_input_points = None, xmin = None, xmax = None, \n",
    "               number_output_points = None, xvec_org = None, yvec_org = None, \n",
    "               n1order = None, nsize = None, order = None):\n",
    "    self.totnode_org = number_input_points\n",
    "    self.totnode = number_output_points\n",
    "    self.xmin = xmin\n",
    "    self.xmax = xmax\n",
    "    self.xvec_org = xvec_org \n",
    "    self.yvec_org = yvec_org\n",
    "    self.n1order = n1order\n",
    "    self.nsize = nsize\n",
    "    self.order = order\n",
    "    "
   ]
  },
  {
   "cell_type": "code",
   "execution_count": 2,
   "metadata": {},
   "outputs": [
    {
     "name": "stdout",
     "output_type": "stream",
     "text": [
      "9\n"
     ]
    }
   ],
   "source": [
    "test = PDoperator_(6,4,6,7,8,9,0,9)\n",
    "test.order = 9\n",
    "print(test.order)"
   ]
  },
  {
   "cell_type": "code",
   "execution_count": 3,
   "metadata": {},
   "outputs": [],
   "source": [
    "#Function that generates grid\n",
    "class GridGenerator:\n",
    "    def __init__(init, xmin, xmax, totnodes):\n",
    "        xvec = []\n",
    "        dvolume = []\n",
    "        dx = (xmax - xmin)/ totnodes\n",
    "        for i in range(totnodes):\n",
    "            xvec.append(xmin + dx*i +dx/2.0)\n",
    "            dvolume.append(dx*1*1)\n",
    "        init.xvec = xvec\n",
    "        init.dvolume = dvolume\n",
    "    \n",
    "    "
   ]
  },
  {
   "cell_type": "code",
   "execution_count": 4,
   "metadata": {},
   "outputs": [],
   "source": [
    "#Function that creates lump volumes\n",
    "def LumpVolumes(totnode_org, totnode, xvec_org, xvec, dvolume):\n",
    "    dvolumes_org = [0] * totnode_org\n",
    "    tiny = 1E-7\n",
    "    rho = [0]*totnode_org\n",
    "    dvolume_org = [0]*totnode_org\n",
    "    for i in range(totnode):\n",
    "        rhosum = 0.0\n",
    "        for j in range(totnode_org):\n",
    "            rho[j] = 1.0/((abs(xvec[i] - xvec_org[j]))**3 + tiny)\n",
    "            rhosum = rhosum + rho[j]\n",
    "        for j in range(totnode_org):\n",
    "            dvolume_org[j] = dvolume_org[j] + (rho[j] / rhosum)*dvolume[i]\n",
    "    rhosum = 0.0;\n",
    "    for j in range(totnode_org):\n",
    "        rhosum += dvolume_org[j]\n",
    "    print(\"Total volume of output points         = \",totnode*dvolume[0] )\n",
    "    print(\"Total volume of computed input points = \", rhosum)\n",
    "    return dvolume_org"
   ]
  },
  {
   "cell_type": "code",
   "execution_count": 5,
   "metadata": {},
   "outputs": [],
   "source": [
    "#Calculates size of Peridynamic operator\n",
    "def getSize1D(n1order):\n",
    "    nsize = n1order + 1\n",
    "    return nsize"
   ]
  },
  {
   "cell_type": "code",
   "execution_count": 6,
   "metadata": {},
   "outputs": [],
   "source": [
    "#Function that sets the order of the Differential Operators\n",
    "def SetDiffOperators1D(nsize):\n",
    "    order = list(range(0,nsize))\n",
    "    return order"
   ]
  },
  {
   "cell_type": "code",
   "execution_count": 7,
   "metadata": {},
   "outputs": [],
   "source": [
    "import numpy as np\n",
    "#Function that calculates the 1D pass derivative operator\n",
    "def Derivative_Operator_1D_PASS(n1order, PDoperator):\n",
    "    PDoperator.nsize = getSize1D(n1order)\n",
    "    PDoperator.order = SetDiffOperators1D(PDoperator.nsize)\n",
    "    DiffAmat1D = [[0] * PDoperator.nsize] * PDoperator.nsize #Creating DiffAmat 2D matrix\n",
    "    DiffAmatInv1D = [[0] * PDoperator.nsize] * PDoperator.nsize #Creating DiffAmatInv 2D matrix\n",
    "    DiffBvec1D = [0] * PDoperator.nsize\n",
    "    DiffAvec1D = [0] * PDoperator.nsize\n",
    "    plist = [0] * PDoperator.nsize\n",
    "    blist = [0] * PDoperator.nsize\n",
    "    weight = [0] * PDoperator.nsize\n",
    "    rcvec = [0] * PDoperator.nsize\n",
    "    wgt = [0] * PDoperator.totnode_org\n",
    "    \n",
    "    print(\"Interpolating for N=2\")\n",
    "    #for i in range(PDoperator.totnode):\n",
    "        #GenerateNodeFamily_0\n",
    "        \n",
    "    \n",
    "    \n",
    "    print(np.shape(wgt))\n",
    "    #print(PDoperator.order)\n",
    "    \n",
    "    "
   ]
  },
  {
   "cell_type": "code",
   "execution_count": 8,
   "metadata": {},
   "outputs": [
    {
     "name": "stdout",
     "output_type": "stream",
     "text": [
      "Total volume of output points         =  9.0\n",
      "Total volume of computed input points =  9.0\n",
      "Interpolating for N=2\n",
      "(10,)\n",
      "[0, 1, 2]\n"
     ]
    }
   ],
   "source": [
    "#The PDoperator class constructor has the following inputs\n",
    "#PDoperator_name = PDoperator(number_input_points, xmin, xmax, output_points, \n",
    "#                             xvec_org, yvec_org)\n",
    "number_input_points = 10\n",
    "xmin = 0\n",
    "xmax = 9\n",
    "number_output_points = 200\n",
    "xvec_org = list(range(xmin,xmax+1))\n",
    "yvec_org = [2, 2, 2, 2, 2, 3.2, 3.2, 3.2, 3.2, 3.2]\n",
    "n1order = 2\n",
    "\n",
    "PDoperator = PDoperator_(number_input_points, xmin, xmax, number_output_points, \n",
    "                        xvec_org, yvec_org, n1order)\n",
    "\n",
    "#Generating the grid\n",
    "gridgenerator = GridGenerator(PDoperator.xmin, PDoperator.xmax, PDoperator.totnode)\n",
    "\n",
    "#Create lump volumes\n",
    "dvolumes_org = LumpVolumes(PDoperator.totnode_org, PDoperator.totnode, \n",
    "                           PDoperator.xvec_org, gridgenerator.xvec, \n",
    "                           gridgenerator.dvolume)\n",
    "#Calculating the 1D derivative operator\n",
    "Derivative_Operator_1D_PASS(PDoperator.n1order, PDoperator)\n",
    "#print(PDoperator.n1order)\n",
    "print(PDoperator.order)"
   ]
  },
  {
   "cell_type": "code",
   "execution_count": 19,
   "metadata": {},
   "outputs": [
    {
     "name": "stdout",
     "output_type": "stream",
     "text": [
      "[0, 1, 2, 3, 4, 5, 6, 7, 8, 9]\n",
      "1.9775\n"
     ]
    }
   ],
   "source": [
    "print(xvec_org)\n",
    "print(xvec_org[2]-gridgenerator.xvec[0])"
   ]
  }
 ],
 "metadata": {
  "kernelspec": {
   "display_name": "Python 3",
   "language": "python",
   "name": "python3"
  },
  "language_info": {
   "codemirror_mode": {
    "name": "ipython",
    "version": 3
   },
   "file_extension": ".py",
   "mimetype": "text/x-python",
   "name": "python",
   "nbconvert_exporter": "python",
   "pygments_lexer": "ipython3",
   "version": "3.7.0"
  }
 },
 "nbformat": 4,
 "nbformat_minor": 2
}
