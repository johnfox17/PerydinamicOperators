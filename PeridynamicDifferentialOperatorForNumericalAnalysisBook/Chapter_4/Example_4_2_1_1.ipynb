{
 "cells": [
  {
   "cell_type": "markdown",
   "metadata": {},
   "source": [
    "### Example 4.2.1.1: 1-D interpolation on equally spaced input points"
   ]
  },
  {
   "cell_type": "code",
   "execution_count": 1,
   "metadata": {},
   "outputs": [],
   "source": [
    "#Setting Peridynamic parameters\n",
    "class PDoperator_:\n",
    "    def __init__(self, number_input_points = None, xmin = None, xmax = None, \n",
    "               number_output_points = None, xvec_org = None, yvec_org = None, \n",
    "               n1order = None, nsize = None, order = None):\n",
    "        self.totnode_org = number_input_points\n",
    "        self.totnode = number_output_points\n",
    "        self.xmin = xmin\n",
    "        self.xmax = xmax\n",
    "        self.xvec_org = xvec_org \n",
    "        self.yvec_org = yvec_org\n",
    "        self.n1order = n1order\n",
    "        self.nsize = nsize\n",
    "        self.order = order\n",
    "    "
   ]
  },
  {
   "cell_type": "code",
   "execution_count": null,
   "metadata": {},
   "outputs": [],
   "source": []
  },
  {
   "cell_type": "code",
   "execution_count": 2,
   "metadata": {},
   "outputs": [],
   "source": [
    "#Function that generates grid\n",
    "class GridGenerator:\n",
    "    def __init__(init, PDoperator):\n",
    "        \n",
    "        xmin = PDoperator.xmin \n",
    "        xmax = PDoperator.xmax\n",
    "        totnode = PDoperator.totnode\n",
    "        \n",
    "        xvec = []\n",
    "        dvolume = []\n",
    "        dx = (xmax - xmin)/ totnode\n",
    "        for i in range(totnode):\n",
    "            xvec.append(round(xmin + dx*i +dx/2.0,6))\n",
    "            dvolume.append(round(dx*1*1,6))\n",
    "        init.xvec = xvec\n",
    "        init.dvolume = dvolume\n",
    "    \n",
    "    "
   ]
  },
  {
   "cell_type": "code",
   "execution_count": 3,
   "metadata": {},
   "outputs": [],
   "source": [
    "#Function that creates lump volumes\n",
    "def LumpVolumes(PDoperator, gridgenerator):\n",
    "    \n",
    "    totnode_org = PDoperator.totnode_org \n",
    "    totnode = PDoperator.totnode \n",
    "    xvec_org = PDoperator.xvec_org\n",
    "    \n",
    "    xvec = gridgenerator.xvec \n",
    "    dvolume = gridgenerator.dvolume\n",
    "    \n",
    "    \n",
    "    dvolumes_org = [0] * totnode_org\n",
    "    tiny = 1E-7\n",
    "    rho = [0]*totnode_org\n",
    "    dvolume_org = [0]*totnode_org\n",
    "    for i in range(totnode):\n",
    "        rhosum = 0.0\n",
    "        for j in range(totnode_org):\n",
    "            rho[j] = 1.0/((abs(xvec[i] - xvec_org[j]))**3 + tiny)\n",
    "            rhosum = rhosum + rho[j]\n",
    "        for j in range(totnode_org):\n",
    "            dvolume_org[j] = dvolume_org[j] + (rho[j] / rhosum)*dvolume[i]\n",
    "    rhosum = 0.0;\n",
    "    for j in range(totnode_org):\n",
    "        rhosum += dvolume_org[j]\n",
    "    print(\"Total volume of output points         = \",totnode*dvolume[0] )\n",
    "    print(\"Total volume of computed input points = \", rhosum)\n",
    "    return dvolume_org"
   ]
  },
  {
   "cell_type": "code",
   "execution_count": 4,
   "metadata": {},
   "outputs": [],
   "source": [
    "#Calculates size of Peridynamic operator\n",
    "def getSize1D(n1order):\n",
    "    nsize = n1order + 1\n",
    "    return nsize"
   ]
  },
  {
   "cell_type": "code",
   "execution_count": 5,
   "metadata": {},
   "outputs": [],
   "source": [
    "#Function that sets the order of the Differential Operators\n",
    "def SetDiffOperators1D(nsize):\n",
    "    order = list(range(0,nsize))\n",
    "    return order"
   ]
  },
  {
   "cell_type": "code",
   "execution_count": 6,
   "metadata": {},
   "outputs": [],
   "source": [
    "class NodeFamily:\n",
    "    def __init__(self, xsi_order = None, xsivec = None, deltax = None):\n",
    "        self.xsi_order = xsi_order\n",
    "        self.xsivec = xsivec\n",
    "        self.deltax = deltax"
   ]
  },
  {
   "cell_type": "code",
   "execution_count": 7,
   "metadata": {},
   "outputs": [],
   "source": [
    "import pandas as pd\n",
    "#Function that finds the node family for each Peridynamic node\n",
    "def GenerateNodeFamily(xvec_org, xvec):\n",
    "    \n",
    "    xsi_order = pd.DataFrame({'node':xvec_org})\n",
    "    xsivec = pd.DataFrame({'node':xvec_org})\n",
    "    #xsivec = pd.DataFrame()\n",
    "    \n",
    "    #Ordering nodes\n",
    "    for i in range(len(xvec)):\n",
    "        aux = []\n",
    "        for j in range(len(xvec_org)):\n",
    "                aux.append(math.sqrt((xvec[i]-xvec_org[j])**2))\n",
    "        xsi_order[str(xvec[i])] = aux\n",
    "        xsivec[str(xvec[i])] = aux\n",
    "    \n",
    "    xsi_order.set_index('node', inplace=True)\n",
    "    for i in xsi_order:\n",
    "        xsi_order[str(i)] = xsi_order[str(i)].sort_values().keys()\n",
    "    xsi_order_2 = pd.DataFrame({'node':xvec_org})\n",
    "    for i in xsi_order:\n",
    "        xsi_order_2[str(i)] = list(xsi_order[str(i)].sort_values().keys())\n",
    "    \n",
    "    #Calculating deltas (horizon) we are selecting the largest bond\n",
    "    deltax = []\n",
    "    xsivec = xsivec.drop(columns=\"node\")\n",
    "    for i in xsivec:\n",
    "        deltax.append(max(list(xsivec[str(i)])))\n",
    "    \n",
    "    NodeFam = NodeFamily()\n",
    "    xsi_order_2 = xsi_order_2.drop(columns=\"node\")\n",
    "    NodeFam.xsi_order = xsi_order_2\n",
    "    NodeFam.xsivec = xsivec\n",
    "    NodeFam.deltax = deltax\n",
    "    \n",
    "    #aux2 +=np.matmul(aux,np.transpose(aux))*dvolumes_org[node_mem]\n",
    "    return NodeFam;"
   ]
  },
  {
   "cell_type": "code",
   "execution_count": 8,
   "metadata": {},
   "outputs": [],
   "source": [
    "#Function that calculates the Peridynamics weights\n",
    "def calc_weights(NodeFam, xvec):\n",
    "    tiny = 0.000001\n",
    "    weights = pd.DataFrame() \n",
    "\n",
    "    k=0    \n",
    "    for i in xvec:\n",
    "        xsivec_column = NodeFam.xsivec[str(i)].to_numpy()\n",
    "        aux = []\n",
    "        for xsi_mag in xsivec_column:\n",
    "            aux.append((NodeFam.deltax[k]/(xsi_mag+tiny))**2)\n",
    "        weights[str(i)] = aux\n",
    "        k = k + 1\n",
    "        \n",
    "    return weights"
   ]
  },
  {
   "cell_type": "code",
   "execution_count": 9,
   "metadata": {},
   "outputs": [],
   "source": [
    "import numpy as np\n",
    "#Calculate p_operator\n",
    "def p_operator_1d(x0,nsize,dvolumes_org, weights):\n",
    "    \n",
    "    x0_array = x0.to_numpy()\n",
    "    weights_array = weights.to_numpy()\n",
    "    aux2 = np.zeros((nsize,nsize))\n",
    "    node_mem = 0;\n",
    "   \n",
    "    for i in x0_array:\n",
    "        aux = np.zeros((nsize,1))\n",
    "        for j in range(nsize):\n",
    "            aux[j] = i**j\n",
    "            \n",
    "        #aux2 +=np.matmul(aux,np.transpose(aux))\n",
    "        #aux2 = aux2*dvolumes_org[node_mem]\n",
    "        aux2 +=np.matmul(aux,np.transpose(aux))*dvolumes_org[node_mem]*weights[node_mem]\n",
    "        #aux2 +=np.matmul(aux,np.transpose(aux))\n",
    "        node_mem = node_mem + 1\n",
    "    \n",
    "    return aux2"
   ]
  },
  {
   "cell_type": "code",
   "execution_count": 10,
   "metadata": {},
   "outputs": [],
   "source": [
    "#Form Diff A Matrix\n",
    "import math\n",
    "\n",
    "def FormDiffAmat1D(nsize, xvec_org, xvec, dvolumes_org, NodeFam):\n",
    "    #An A matrix must be created for each of the Peridynamic nodes\n",
    "    DiffAmat1D = [[0] * PDoperator.nsize] * PDoperator.nsize #Creating DiffAmat 2D matrix\n",
    "    xsivec = pd.DataFrame()\n",
    "    xsivec_mags = pd.DataFrame()\n",
    "    \n",
    "    for i in range(len(xvec)):\n",
    "        aux = []\n",
    "        for j in range(len(xvec_org)):\n",
    "                aux.append(xvec_org[j]-xvec[i])\n",
    "        xsivec[str(xvec[i])] = aux\n",
    "        \n",
    "    #weights must be calculated here it is going to be one for each Peridynamic node i.e. 200\n",
    "    weights = calc_weights(NodeFam, xvec)\n",
    "\n",
    "    A_prism = np.zeros((len(xvec), nsize,nsize ))\n",
    "    j=0\n",
    "    for i in xvec:     \n",
    "        p_matrix = p_operator_1d(xsivec[str(i)],nsize, dvolumes_org,weights[str(i)])\n",
    "        A_prism[j,:,:] = p_matrix\n",
    "        j = j +1\n",
    "\n",
    "    return A_prism\n",
    "    "
   ]
  },
  {
   "cell_type": "code",
   "execution_count": 11,
   "metadata": {},
   "outputs": [],
   "source": [
    "def FormInvDiffAmat1D(DiffAmat1D, nsize, xvec):\n",
    "    DiffAmatInv1D = np.zeros((len(xvec), nsize,nsize ))\n",
    "    for i in range(len(xvec)):\n",
    "        DiffAmatInv1D[i] = np.linalg.inv(DiffAmat1D[i])\n",
    "\n",
    "    return DiffAmatInv1D"
   ]
  },
  {
   "cell_type": "code",
   "execution_count": 12,
   "metadata": {},
   "outputs": [],
   "source": [
    "import numpy as np\n",
    "import math\n",
    "#Function that calculates the 1D pass derivative operator\n",
    "def Derivative_Operator_1D_PASS(PDoperator, gridgenerator, dvolumes_org):\n",
    "    \n",
    "    xvec = gridgenerator.xvec\n",
    "    n1order = PDoperator.n1order\n",
    "    PDoperator.nsize = getSize1D(n1order)\n",
    "    PDoperator.order = SetDiffOperators1D(PDoperator.nsize)\n",
    "    DiffAmat1D = [[0] * PDoperator.nsize] * PDoperator.nsize #Creating DiffAmat 2D matrix\n",
    "    DiffAmatInv1D = [[0] * PDoperator.nsize] * PDoperator.nsize #Creating DiffAmatInv 2D matrix\n",
    "    DiffBvec1D = [0] * PDoperator.nsize\n",
    "    DiffAvec1D = [0] * PDoperator.nsize\n",
    "    plist = [0] * PDoperator.nsize\n",
    "    blist = [0] * PDoperator.nsize\n",
    "    weight = [0] * PDoperator.nsize\n",
    "    rcvec = [0] * PDoperator.nsize\n",
    "    wgt = [0] * PDoperator.totnode_org\n",
    "    ndfam = [0] * PDoperator.totnode_org\n",
    "    \n",
    "   \n",
    "    nsize = PDoperator.nsize\n",
    "    \n",
    "    xvec_org = PDoperator.xvec_org\n",
    "    #Here is where we should calculate A matrix, inverse of A matrix and B vector; for every Peridynamic node.\n",
    "    \n",
    "    \n",
    "    #Generate node family\n",
    "    NodeFam = GenerateNodeFamily(xvec_org, xvec)\n",
    "    #Form A array of A Matrices\n",
    "    DiffAmat1D = FormDiffAmat1D(nsize, xvec_org, xvec, dvolumes_org, NodeFam);    \n",
    "    #Form Inverse of A Matrices\n",
    "    DiffAmatInv1D = FormInvDiffAmat1D(DiffAmat1D, nsize, xvec)\n",
    "    #Form B vector\n",
    "        \n",
    "    #print(\"Interpolating for N=2\")\n",
    "    #for i in range(PDoperator.totnode):\n",
    "        #GenerateNodeFamily_0\n",
    "        \n",
    "    \n",
    "    return DiffAmatInv1D\n",
    "    \n",
    "    "
   ]
  },
  {
   "cell_type": "code",
   "execution_count": 13,
   "metadata": {},
   "outputs": [
    {
     "name": "stdout",
     "output_type": "stream",
     "text": [
      "Total volume of output points         =  9.0\n",
      "Total volume of computed input points =  9.0\n"
     ]
    }
   ],
   "source": [
    "#The PDoperator class constructor has the following inputs\n",
    "#PDoperator_name = PDoperator(number_input_points, xmin, xmax, output_points, \n",
    "#                             xvec_org, yvec_org)\n",
    "number_input_points = 10\n",
    "xmin = 0\n",
    "xmax = 9\n",
    "number_output_points = 200\n",
    "xvec_org = list(range(xmin,xmax+1))\n",
    "yvec_org = [2, 2, 2, 2, 2, 3.2, 3.2, 3.2, 3.2, 3.2]\n",
    "n1order = 2\n",
    "\n",
    "PDoperator = PDoperator_(number_input_points, xmin, xmax, number_output_points, \n",
    "                        xvec_org, yvec_org, n1order)\n",
    "\n",
    "#Generating the grid\n",
    "gridgenerator = GridGenerator(PDoperator)\n",
    "\n",
    "#Create lump volumes\n",
    "dvolumes_org = LumpVolumes(PDoperator, gridgenerator)\n",
    "#Calculating the 1D derivative operator\n",
    "h = Derivative_Operator_1D_PASS(PDoperator, gridgenerator,dvolumes_org)\n",
    "\n"
   ]
  },
  {
   "cell_type": "code",
   "execution_count": 14,
   "metadata": {},
   "outputs": [
    {
     "data": {
      "text/plain": [
       "3"
      ]
     },
     "execution_count": 14,
     "metadata": {},
     "output_type": "execute_result"
    }
   ],
   "source": [
    "PDoperator.nsize"
   ]
  },
  {
   "cell_type": "code",
   "execution_count": 15,
   "metadata": {},
   "outputs": [],
   "source": [
    "#h.to_excel(\"output.xlsx\")"
   ]
  },
  {
   "cell_type": "code",
   "execution_count": 16,
   "metadata": {},
   "outputs": [
    {
     "name": "stdout",
     "output_type": "stream",
     "text": [
      "[[ 1.30046865e-04  3.38681164e-04 -6.13820287e-05]\n",
      " [ 3.38681164e-04  6.22356157e-03 -1.05077011e-03]\n",
      " [-6.13820287e-05 -1.05077011e-03  2.29967455e-04]]\n"
     ]
    }
   ],
   "source": [
    "print(h[1])\n"
   ]
  },
  {
   "cell_type": "code",
   "execution_count": 17,
   "metadata": {},
   "outputs": [
    {
     "name": "stdout",
     "output_type": "stream",
     "text": [
      "[0.0225, 0.0675, 0.1125, 0.1575, 0.2025, 0.2475, 0.2925, 0.3375, 0.3825, 0.4275, 0.4725, 0.5175, 0.5625, 0.6075, 0.6525, 0.6975, 0.7425, 0.7875, 0.8325, 0.8775, 0.9225, 0.9675, 1.0125, 1.0575, 1.1025, 1.1475, 1.1925, 1.2375, 1.2825, 1.3275, 1.3725, 1.4175, 1.4625, 1.5075, 1.5525, 1.5975, 1.6425, 1.6875, 1.7325, 1.7775, 1.8225, 1.8675, 1.9125, 1.9575, 2.0025, 2.0475, 2.0925, 2.1375, 2.1825, 2.2275, 2.2725, 2.3175, 2.3625, 2.4075, 2.4525, 2.4975, 2.5425, 2.5875, 2.6325, 2.6775, 2.7225, 2.7675, 2.8125, 2.8575, 2.9025, 2.9475, 2.9925, 3.0375, 3.0825, 3.1275, 3.1725, 3.2175, 3.2625, 3.3075, 3.3525, 3.3975, 3.4425, 3.4875, 3.5325, 3.5775, 3.6225, 3.6675, 3.7125, 3.7575, 3.8025, 3.8475, 3.8925, 3.9375, 3.9825, 4.0275, 4.0725, 4.1175, 4.1625, 4.2075, 4.2525, 4.2975, 4.3425, 4.3875, 4.4325, 4.4775, 4.5225, 4.5675, 4.6125, 4.6575, 4.7025, 4.7475, 4.7925, 4.8375, 4.8825, 4.9275, 4.9725, 5.0175, 5.0625, 5.1075, 5.1525, 5.1975, 5.2425, 5.2875, 5.3325, 5.3775, 5.4225, 5.4675, 5.5125, 5.5575, 5.6025, 5.6475, 5.6925, 5.7375, 5.7825, 5.8275, 5.8725, 5.9175, 5.9625, 6.0075, 6.0525, 6.0975, 6.1425, 6.1875, 6.2325, 6.2775, 6.3225, 6.3675, 6.4125, 6.4575, 6.5025, 6.5475, 6.5925, 6.6375, 6.6825, 6.7275, 6.7725, 6.8175, 6.8625, 6.9075, 6.9525, 6.9975, 7.0425, 7.0875, 7.1325, 7.1775, 7.2225, 7.2675, 7.3125, 7.3575, 7.4025, 7.4475, 7.4925, 7.5375, 7.5825, 7.6275, 7.6725, 7.7175, 7.7625, 7.8075, 7.8525, 7.8975, 7.9425, 7.9875, 8.0325, 8.0775, 8.1225, 8.1675, 8.2125, 8.2575, 8.3025, 8.3475, 8.3925, 8.4375, 8.4825, 8.5275, 8.5725, 8.6175, 8.6625, 8.7075, 8.7525, 8.7975, 8.8425, 8.8875, 8.9325, 8.9775]\n",
      "1.9775\n"
     ]
    }
   ],
   "source": [
    "print(gridgenerator.xvec)\n",
    "print(xvec_org[2]-gridgenerator.xvec[0])"
   ]
  },
  {
   "cell_type": "code",
   "execution_count": 18,
   "metadata": {},
   "outputs": [
    {
     "name": "stdout",
     "output_type": "stream",
     "text": [
      "Hello World\n"
     ]
    }
   ],
   "source": [
    "print('Hello World')"
   ]
  }
 ],
 "metadata": {
  "kernelspec": {
   "display_name": "Python 3",
   "language": "python",
   "name": "python3"
  },
  "language_info": {
   "codemirror_mode": {
    "name": "ipython",
    "version": 3
   },
   "file_extension": ".py",
   "mimetype": "text/x-python",
   "name": "python",
   "nbconvert_exporter": "python",
   "pygments_lexer": "ipython3",
   "version": "3.7.3"
  }
 },
 "nbformat": 4,
 "nbformat_minor": 2
}
