{
 "cells": [
  {
   "cell_type": "markdown",
   "metadata": {},
   "source": [
    "### Example 4.2.1.1: 1-D interpolation on equally spaced input points"
   ]
  },
  {
   "cell_type": "code",
   "execution_count": 1,
   "metadata": {},
   "outputs": [],
   "source": [
    "#Setting Peridynamic parameters\n",
    "class PDoperator_:\n",
    "    def __init__(self, number_input_points = None, xmin = None, xmax = None, \n",
    "               number_output_points = None, xvec_org = None, yvec_org = None, \n",
    "               n1order = None, nsize = None, order = None):\n",
    "        self.totnode_org = number_input_points\n",
    "        self.totnode = number_output_points\n",
    "        self.xmin = xmin\n",
    "        self.xmax = xmax\n",
    "        self.xvec_org = xvec_org \n",
    "        self.yvec_org = yvec_org\n",
    "        self.n1order = n1order\n",
    "        self.nsize = nsize\n",
    "        self.order = order\n",
    "    "
   ]
  },
  {
   "cell_type": "code",
   "execution_count": null,
   "metadata": {},
   "outputs": [],
   "source": []
  },
  {
   "cell_type": "code",
   "execution_count": 2,
   "metadata": {},
   "outputs": [],
   "source": [
    "#Function that generates grid\n",
    "class GridGenerator:\n",
    "    def __init__(init, PDoperator):\n",
    "        \n",
    "        xmin = PDoperator.xmin \n",
    "        xmax = PDoperator.xmax\n",
    "        totnode = PDoperator.totnode\n",
    "        \n",
    "        xvec = []\n",
    "        dvolume = []\n",
    "        dx = (xmax - xmin)/ totnode\n",
    "        for i in range(totnode):\n",
    "            xvec.append(round(xmin + dx*i +dx/2.0,6))\n",
    "            dvolume.append(round(dx*1*1,6))\n",
    "        init.xvec = xvec\n",
    "        init.dvolume = dvolume\n",
    "    \n",
    "    "
   ]
  },
  {
   "cell_type": "code",
   "execution_count": 3,
   "metadata": {},
   "outputs": [],
   "source": [
    "#Function that creates lump volumes\n",
    "def LumpVolumes(PDoperator, gridgenerator):\n",
    "    \n",
    "    totnode_org = PDoperator.totnode_org \n",
    "    totnode = PDoperator.totnode \n",
    "    xvec_org = PDoperator.xvec_org\n",
    "    \n",
    "    xvec = gridgenerator.xvec \n",
    "    dvolume = gridgenerator.dvolume\n",
    "    \n",
    "    \n",
    "    dvolumes_org = [0] * totnode_org\n",
    "    tiny = 1E-7\n",
    "    rho = [0]*totnode_org\n",
    "    dvolume_org = [0]*totnode_org\n",
    "    for i in range(totnode):\n",
    "        rhosum = 0.0\n",
    "        for j in range(totnode_org):\n",
    "            rho[j] = 1.0/((abs(xvec[i] - xvec_org[j]))**3 + tiny)\n",
    "            rhosum = rhosum + rho[j]\n",
    "        for j in range(totnode_org):\n",
    "            dvolume_org[j] = dvolume_org[j] + (rho[j] / rhosum)*dvolume[i]\n",
    "    rhosum = 0.0;\n",
    "    for j in range(totnode_org):\n",
    "        rhosum += dvolume_org[j]\n",
    "    print(\"Total volume of output points         = \",totnode*dvolume[0] )\n",
    "    print(\"Total volume of computed input points = \", rhosum)\n",
    "    return dvolume_org"
   ]
  },
  {
   "cell_type": "code",
   "execution_count": 4,
   "metadata": {},
   "outputs": [],
   "source": [
    "#Calculates size of Peridynamic operator\n",
    "def getSize1D(n1order):\n",
    "    nsize = n1order + 1\n",
    "    return nsize"
   ]
  },
  {
   "cell_type": "code",
   "execution_count": 5,
   "metadata": {},
   "outputs": [],
   "source": [
    "#Function that sets the order of the Differential Operators\n",
    "def SetDiffOperators1D(nsize):\n",
    "    order = list(range(0,nsize))\n",
    "    return order"
   ]
  },
  {
   "cell_type": "code",
   "execution_count": 6,
   "metadata": {},
   "outputs": [],
   "source": [
    "import pandas as pd\n",
    "#Function that finds the node family for each Peridynamic node\n",
    "def GenerateNodeFamily(xvec_org, xvec):\n",
    "    xsi_order = pd.DataFrame({'node':xvec_org})\n",
    "    xsivec = pd.DataFrame({'node':xvec_org})\n",
    "    #xsivec = pd.DataFrame()\n",
    "    \n",
    "    #Ordering nodes\n",
    "    for i in range(len(xvec)):\n",
    "        aux = []\n",
    "        for j in range(len(xvec_org)):\n",
    "                aux.append(math.sqrt((xvec[i]-xvec_org[j])**2))\n",
    "        xsi_order[str(xvec[i])] = aux\n",
    "        xsivec[str(xvec[i])] = aux\n",
    "    \n",
    "    xsi_order.set_index('node', inplace=True)\n",
    "    for i in xsi_order:\n",
    "        xsi_order[str(i)] = xsi_order[str(i)].sort_values().keys()\n",
    "    xsi_order_2 = pd.DataFrame({'node':xvec_org})\n",
    "    for i in xsi_order:\n",
    "        xsi_order_2[str(i)] = list(xsi_order[str(i)].sort_values().keys())\n",
    "    \n",
    "    #Calculating deltas (horizon) we are selecting the largest bond\n",
    "    deltax = []\n",
    "    for i in xsivec:\n",
    "        deltax.append(max(list(xsivec[str(i)])))\n",
    "    return deltax;"
   ]
  },
  {
   "cell_type": "code",
   "execution_count": null,
   "metadata": {},
   "outputs": [],
   "source": []
  },
  {
   "cell_type": "code",
   "execution_count": 7,
   "metadata": {},
   "outputs": [],
   "source": [
    "import numpy as np\n",
    "import math\n",
    "#Function that calculates the 1D pass derivative operator\n",
    "def Derivative_Operator_1D_PASS(PDoperator, gridgenerator):\n",
    "    \n",
    "    xvec = gridgenerator.xvec\n",
    "    n1order = PDoperator.n1order\n",
    "    PDoperator.nsize = getSize1D(n1order)\n",
    "    PDoperator.order = SetDiffOperators1D(PDoperator.nsize)\n",
    "    DiffAmat1D = [[0] * PDoperator.nsize] * PDoperator.nsize #Creating DiffAmat 2D matrix\n",
    "    DiffAmatInv1D = [[0] * PDoperator.nsize] * PDoperator.nsize #Creating DiffAmatInv 2D matrix\n",
    "    DiffBvec1D = [0] * PDoperator.nsize\n",
    "    DiffAvec1D = [0] * PDoperator.nsize\n",
    "    plist = [0] * PDoperator.nsize\n",
    "    blist = [0] * PDoperator.nsize\n",
    "    weight = [0] * PDoperator.nsize\n",
    "    rcvec = [0] * PDoperator.nsize\n",
    "    wgt = [0] * PDoperator.totnode_org\n",
    "    ndfam = [0] * PDoperator.totnode_org\n",
    "    \n",
    "   \n",
    "    nsize = PDoperator.nsize\n",
    "    \n",
    "    xvec_org = PDoperator.xvec_org\n",
    "    #Here is where we should calculate A matrix, inverse of A matrix and B vector; for every Peridynamic node.\n",
    "    \n",
    "    \n",
    "    #Generate node family\n",
    "    g = GenerateNodeFamily(xvec_org, xvec)\n",
    "    \n",
    "    #Form A matrix\n",
    "        \n",
    "    #Form B vector\n",
    "        \n",
    "    #print(\"Interpolating for N=2\")\n",
    "    #for i in range(PDoperator.totnode):\n",
    "        #GenerateNodeFamily_0\n",
    "        \n",
    "    \n",
    "   \n",
    "    #print(PDoperator.order)\n",
    "    return g\n",
    "    \n",
    "    "
   ]
  },
  {
   "cell_type": "code",
   "execution_count": 8,
   "metadata": {},
   "outputs": [
    {
     "name": "stdout",
     "output_type": "stream",
     "text": [
      "[0, 1, 2, 3, 4, 5, 6, 7, 8, 9]\n",
      "Total volume of output points         =  9.0\n",
      "Total volume of computed input points =  9.0\n"
     ]
    }
   ],
   "source": [
    "#The PDoperator class constructor has the following inputs\n",
    "#PDoperator_name = PDoperator(number_input_points, xmin, xmax, output_points, \n",
    "#                             xvec_org, yvec_org)\n",
    "number_input_points = 10\n",
    "xmin = 0\n",
    "xmax = 9\n",
    "number_output_points = 200\n",
    "xvec_org = list(range(xmin,xmax+1))\n",
    "yvec_org = [2, 2, 2, 2, 2, 3.2, 3.2, 3.2, 3.2, 3.2]\n",
    "n1order = 2\n",
    "\n",
    "PDoperator = PDoperator_(number_input_points, xmin, xmax, number_output_points, \n",
    "                        xvec_org, yvec_org, n1order)\n",
    "\n",
    "#Generating the grid\n",
    "gridgenerator = GridGenerator(PDoperator)\n",
    "print(xvec_org)\n",
    "#Create lump volumes\n",
    "dvolumes_org = LumpVolumes(PDoperator, gridgenerator)\n",
    "#Calculating the 1D derivative operator\n",
    "h = Derivative_Operator_1D_PASS(PDoperator, gridgenerator)\n",
    "\n",
    "#for i in h:\n",
    "#        print(list(h[str(i)].sort_values()))\n",
    "\n",
    "#print(h['8.9775'])"
   ]
  },
  {
   "cell_type": "code",
   "execution_count": 9,
   "metadata": {},
   "outputs": [
    {
     "name": "stdout",
     "output_type": "stream",
     "text": [
      "[9, 8.9775, 8.9325, 8.8875, 8.8425, 8.7975, 8.7525, 8.7075, 8.6625, 8.6175, 8.5725, 8.5275, 8.4825, 8.4375, 8.3925, 8.3475, 8.3025, 8.2575, 8.2125, 8.1675, 8.1225, 8.0775, 8.0325, 7.9875, 7.9425, 7.8975, 7.8525, 7.8075, 7.7625, 7.7175, 7.6725, 7.6274999999999995, 7.5825, 7.5375, 7.4925, 7.4475, 7.4025, 7.3575, 7.3125, 7.2675, 7.2225, 7.1775, 7.1325, 7.0875, 7.0425, 6.9975000000000005, 6.952500000000001, 6.907500000000001, 6.8625, 6.8175, 6.7725, 6.7275, 6.6825, 6.6375, 6.592499999999999, 6.547499999999999, 6.5024999999999995, 6.4575, 6.4125, 6.3675, 6.3225, 6.2775, 6.2325, 6.1875, 6.1425, 6.0975, 6.0525, 6.0075, 5.9625, 5.9175, 5.8725000000000005, 5.827500000000001, 5.782500000000001, 5.7375, 5.6925, 5.6475, 5.6025, 5.5575, 5.5125, 5.467499999999999, 5.422499999999999, 5.3774999999999995, 5.3325, 5.2875, 5.2425, 5.1975, 5.1525, 5.1075, 5.0625, 5.0175, 4.9725, 4.9275, 4.8825, 4.8375, 4.7925, 4.7475, 4.7025, 4.6575, 4.6125, 4.5675, 4.5225, 4.5225, 4.5675, 4.6125, 4.6575, 4.7025, 4.7475, 4.7925, 4.8375, 4.8825, 4.9275, 4.9725, 5.0175, 5.0625, 5.1075, 5.1525, 5.1975, 5.2425, 5.2875, 5.3325, 5.3775, 5.4225, 5.4675, 5.5125, 5.5575, 5.6025, 5.6475, 5.6925, 5.7375, 5.7825, 5.8275, 5.8725, 5.9175, 5.9625, 6.0075, 6.0525, 6.0975, 6.1425, 6.1875, 6.2325, 6.2775, 6.3225, 6.3675, 6.4125, 6.4575, 6.5025, 6.5475, 6.5925, 6.6375, 6.6825, 6.7275, 6.7725, 6.8175, 6.8625, 6.9075, 6.9525, 6.9975, 7.0425, 7.0875, 7.1325, 7.1775, 7.2225, 7.2675, 7.3125, 7.3575, 7.4025, 7.4475, 7.4925, 7.5375, 7.5825, 7.6275, 7.6725, 7.7175, 7.7625, 7.8075, 7.8525, 7.8975, 7.9425, 7.9875, 8.0325, 8.0775, 8.1225, 8.1675, 8.2125, 8.2575, 8.3025, 8.3475, 8.3925, 8.4375, 8.4825, 8.5275, 8.5725, 8.6175, 8.6625, 8.7075, 8.7525, 8.7975, 8.8425, 8.8875, 8.9325, 8.9775]\n"
     ]
    }
   ],
   "source": [
    "print(h)\n",
    "#h[str(i)].sort_values().keys()\n",
    "#h_0 = "
   ]
  },
  {
   "cell_type": "code",
   "execution_count": 11,
   "metadata": {},
   "outputs": [],
   "source": [
    "#h.to_excel(\"output.xlsx\")"
   ]
  },
  {
   "cell_type": "code",
   "execution_count": null,
   "metadata": {},
   "outputs": [],
   "source": []
  },
  {
   "cell_type": "code",
   "execution_count": null,
   "metadata": {},
   "outputs": [],
   "source": [
    "print(gridgenerator.xvec)\n",
    "print(xvec_org[2]-gridgenerator.xvec[0])"
   ]
  },
  {
   "cell_type": "code",
   "execution_count": null,
   "metadata": {},
   "outputs": [],
   "source": [
    "print('Hello World')"
   ]
  }
 ],
 "metadata": {
  "kernelspec": {
   "display_name": "Python 3",
   "language": "python",
   "name": "python3"
  },
  "language_info": {
   "codemirror_mode": {
    "name": "ipython",
    "version": 3
   },
   "file_extension": ".py",
   "mimetype": "text/x-python",
   "name": "python",
   "nbconvert_exporter": "python",
   "pygments_lexer": "ipython3",
   "version": "3.7.3"
  }
 },
 "nbformat": 4,
 "nbformat_minor": 2
}
