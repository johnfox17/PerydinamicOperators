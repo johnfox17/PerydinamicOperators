{
 "cells": [
  {
   "cell_type": "markdown",
   "metadata": {},
   "source": [
    "### Example 4.2.1.1: 1-D interpolation on equally spaced input points"
   ]
  },
  {
   "cell_type": "code",
   "execution_count": 1,
   "metadata": {},
   "outputs": [],
   "source": [
    "#Setting Peridynamic parameters\n",
    "class PDoperator_:\n",
    "    def __init__(self, number_input_points = None, xmin = None, xmax = None, \n",
    "               number_output_points = None, xvec_org = None, yvec_org = None, \n",
    "               n1order = None, nsize = None, order = None):\n",
    "        self.totnode_org = number_input_points\n",
    "        self.totnode = number_output_points\n",
    "        self.xmin = xmin\n",
    "        self.xmax = xmax\n",
    "        self.xvec_org = xvec_org \n",
    "        self.yvec_org = yvec_org\n",
    "        self.n1order = n1order\n",
    "        self.nsize = nsize\n",
    "        self.order = order\n",
    "    "
   ]
  },
  {
   "cell_type": "code",
   "execution_count": null,
   "metadata": {},
   "outputs": [],
   "source": []
  },
  {
   "cell_type": "code",
   "execution_count": 2,
   "metadata": {},
   "outputs": [],
   "source": [
    "#Function that generates grid\n",
    "class GridGenerator:\n",
    "    def __init__(init, PDoperator):\n",
    "        \n",
    "        xmin = PDoperator.xmin \n",
    "        xmax = PDoperator.xmax\n",
    "        totnode = PDoperator.totnode\n",
    "        \n",
    "        xvec = []\n",
    "        dvolume = []\n",
    "        dx = (xmax - xmin)/ totnode\n",
    "        for i in range(totnode):\n",
    "            xvec.append(round(xmin + dx*i +dx/2.0,6))\n",
    "            dvolume.append(round(dx*1*1,6))\n",
    "        init.xvec = xvec\n",
    "        init.dvolume = dvolume\n",
    "    \n",
    "    "
   ]
  },
  {
   "cell_type": "code",
   "execution_count": 3,
   "metadata": {},
   "outputs": [],
   "source": [
    "#Function that creates lump volumes\n",
    "def LumpVolumes(PDoperator, gridgenerator):\n",
    "    \n",
    "    totnode_org = PDoperator.totnode_org \n",
    "    totnode = PDoperator.totnode \n",
    "    xvec_org = PDoperator.xvec_org\n",
    "    \n",
    "    xvec = gridgenerator.xvec \n",
    "    dvolume = gridgenerator.dvolume\n",
    "    \n",
    "    \n",
    "    dvolumes_org = [0] * totnode_org\n",
    "    tiny = 1E-7\n",
    "    rho = [0]*totnode_org\n",
    "    dvolume_org = [0]*totnode_org\n",
    "    for i in range(totnode):\n",
    "        rhosum = 0.0\n",
    "        for j in range(totnode_org):\n",
    "            rho[j] = 1.0/((abs(xvec[i] - xvec_org[j]))**3 + tiny)\n",
    "            rhosum = rhosum + rho[j]\n",
    "        for j in range(totnode_org):\n",
    "            dvolume_org[j] = dvolume_org[j] + (rho[j] / rhosum)*dvolume[i]\n",
    "    rhosum = 0.0;\n",
    "    for j in range(totnode_org):\n",
    "        rhosum += dvolume_org[j]\n",
    "    print(\"Total volume of output points         = \",totnode*dvolume[0] )\n",
    "    print(\"Total volume of computed input points = \", rhosum)\n",
    "    return dvolume_org"
   ]
  },
  {
   "cell_type": "code",
   "execution_count": 4,
   "metadata": {},
   "outputs": [],
   "source": [
    "#Calculates size of Peridynamic operator\n",
    "def getSize1D(n1order):\n",
    "    nsize = n1order + 1\n",
    "    return nsize"
   ]
  },
  {
   "cell_type": "code",
   "execution_count": 5,
   "metadata": {},
   "outputs": [],
   "source": [
    "#Function that sets the order of the Differential Operators\n",
    "def SetDiffOperators1D(nsize):\n",
    "    order = list(range(0,nsize))\n",
    "    return order"
   ]
  },
  {
   "cell_type": "code",
   "execution_count": 6,
   "metadata": {},
   "outputs": [],
   "source": [
    "class NodeFamily:\n",
    "    def __init__(self, xsi_order = None, xsivec = None, deltax = None):\n",
    "        self.xsi_order = xsi_order\n",
    "        self.xsivec = xsivec\n",
    "        self.deltax = deltax"
   ]
  },
  {
   "cell_type": "code",
   "execution_count": 7,
   "metadata": {},
   "outputs": [],
   "source": [
    "import pandas as pd\n",
    "#Function that finds the node family for each Peridynamic node\n",
    "def GenerateNodeFamily(xvec_org, xvec):\n",
    "    \n",
    "    xsi_order = pd.DataFrame({'node':xvec_org})\n",
    "    xsivec = pd.DataFrame({'node':xvec_org})\n",
    "    #xsivec = pd.DataFrame()\n",
    "    \n",
    "    #Ordering nodes\n",
    "    for i in range(len(xvec)):\n",
    "        aux = []\n",
    "        for j in range(len(xvec_org)):\n",
    "                aux.append(math.sqrt((xvec[i]-xvec_org[j])**2))\n",
    "        xsi_order[str(xvec[i])] = aux\n",
    "        xsivec[str(xvec[i])] = aux\n",
    "    \n",
    "    xsi_order.set_index('node', inplace=True)\n",
    "    for i in xsi_order:\n",
    "        xsi_order[str(i)] = xsi_order[str(i)].sort_values().keys()\n",
    "    xsi_order_2 = pd.DataFrame({'node':xvec_org})\n",
    "    for i in xsi_order:\n",
    "        xsi_order_2[str(i)] = list(xsi_order[str(i)].sort_values().keys())\n",
    "    \n",
    "    #Calculating deltas (horizon) we are selecting the largest bond\n",
    "    deltax = []\n",
    "    xsivec = xsivec.drop(columns=\"node\")\n",
    "    for i in xsivec:\n",
    "        deltax.append(max(list(xsivec[str(i)])))\n",
    "    \n",
    "    NodeFam = NodeFamily()\n",
    "    xsi_order_2 = xsi_order_2.drop(columns=\"node\")\n",
    "    NodeFam.xsi_order = xsi_order_2\n",
    "    NodeFam.xsivec = xsivec\n",
    "    NodeFam.deltax = deltax\n",
    "    \n",
    "    #aux2 +=np.matmul(aux,np.transpose(aux))*dvolumes_org[node_mem]\n",
    "    return NodeFam;"
   ]
  },
  {
   "cell_type": "code",
   "execution_count": 8,
   "metadata": {},
   "outputs": [],
   "source": [
    "#Function that calculates the Peridynamics weights\n",
    "def calc_weights(NodeFam, xvec):\n",
    "    tiny = 0.000001\n",
    "    weights = pd.DataFrame() \n",
    "    #j=0\n",
    "    #for i in range(len(NodeFam.deltax)):\n",
    "        #weights.append((NodeFam.deltax[j])**2)\n",
    "        #j = j + 1\n",
    "    k=0    \n",
    "    for i in xvec:\n",
    "        xsivec_column = NodeFam.xsivec[str(i)].to_numpy()\n",
    "        aux = []\n",
    "        for xsi_mag in xsivec_column:\n",
    "            aux.append((NodeFam.deltax[k]/(xsi_mag+tiny))**2)\n",
    "        weights[str(i)] = aux\n",
    "        k = k + 1\n",
    "    print(weights)    \n",
    "    #print(NodeFam.deltax)\n",
    "    return weights"
   ]
  },
  {
   "cell_type": "code",
   "execution_count": 9,
   "metadata": {},
   "outputs": [],
   "source": [
    "import numpy as np\n",
    "#Calculate p_operator\n",
    "def p_operator_1d(x0,nsize,dvolumes_org):\n",
    "    \n",
    "    x0_array = x0.to_numpy()\n",
    "    aux2 = np.zeros((nsize,nsize))\n",
    "    node_mem = 0;\n",
    "    \n",
    "    for i in x0_array:\n",
    "        aux = np.zeros((nsize,1))\n",
    "        for j in range(nsize):\n",
    "            aux[j] = i**j\n",
    "            \n",
    "        #aux2 +=np.matmul(aux,np.transpose(aux))\n",
    "        #aux2 = aux2*dvolumes_org[node_mem]\n",
    "        aux2 +=np.matmul(aux,np.transpose(aux))*dvolumes_org[node_mem]\n",
    "        #aux2 +=np.matmul(aux,np.transpose(aux))\n",
    "        node_mem = node_mem + 1\n",
    "        \n",
    "    #print(aux2)\n",
    "    #plist = np.matmul(aux,np.transpose(aux))\n",
    "        #plist = np.append(plist, np.array([aux]), axis=0)\n",
    "        \n",
    "    #xsivec = pd.DataFrame()\n",
    "    #for i in range(len(xvec)):\n",
    "    #    aux = []\n",
    "    #    for j in range(len(xvec_org)):\n",
    "    #            aux.append(xvec_org[j]-xvec[i])       \n",
    "    #    xsivec[str(xvec[i])] = aux\n",
    "    \n",
    "    #xvec_node = xvec[0]\n",
    "    #xsivec_vec = xsivec[str(xvec[0])]\n",
    "    #plist = [[0] * PDoperator.nsize] * len(xvec_org)\n",
    "    #for i in range(len(xvec_org)):\n",
    "        \n",
    "    #    for j in range(nsize):\n",
    "    #        plist.append(xsivec_vec[0]**j)\n",
    "    #print(xsivec_vec)\n",
    "    \n",
    "    return aux2"
   ]
  },
  {
   "cell_type": "code",
   "execution_count": 10,
   "metadata": {},
   "outputs": [],
   "source": [
    "#p_operator_1d(PDoperator.nsize,PDoperator.xvec_org, gridgenerator.xvec)"
   ]
  },
  {
   "cell_type": "code",
   "execution_count": 11,
   "metadata": {},
   "outputs": [],
   "source": [
    "#Form Diff A Matrix\n",
    "import math\n",
    "\n",
    "def FormDiffAmat1D(nsize, xvec_org, xvec, dvolumes_org, NodeFam):\n",
    "    #An A matrix must be created for each of the Peridynamic nodes\n",
    "    DiffAmat1D = [[0] * PDoperator.nsize] * PDoperator.nsize #Creating DiffAmat 2D matrix\n",
    "    xsivec = pd.DataFrame()\n",
    "    xsivec_mags = pd.DataFrame()\n",
    "    \n",
    "    for i in range(len(xvec)):\n",
    "        aux = []\n",
    "        for j in range(len(xvec_org)):\n",
    "                aux.append(xvec_org[j]-xvec[i])\n",
    "        xsivec[str(xvec[i])] = aux\n",
    "        \n",
    "    #weights must be calculated here it is going to be one for each Peridynamic node i.e. 200\n",
    "    weights = calc_weights(NodeFam, xvec)\n",
    "    #print(weights)\n",
    "    \n",
    "    #for i in range(len(xvec_org)):\n",
    "    A_prism = np.zeros((len(xvec), nsize,nsize ))\n",
    "    j=0\n",
    "    for i in xvec:     \n",
    "        p_matrix = p_operator_1d(xsivec[str(i)],nsize, dvolumes_org)\n",
    "        A_prism[j,:,:] = p_matrix\n",
    "        j = j +1\n",
    "        #print(dvolumes_org[i]*p_matrix)\n",
    "        #print(p_matrix)\n",
    "    #print(dvolumes_org)\n",
    "    return A_prism\n",
    "    "
   ]
  },
  {
   "cell_type": "code",
   "execution_count": 12,
   "metadata": {},
   "outputs": [],
   "source": [
    "import numpy as np\n",
    "import math\n",
    "#Function that calculates the 1D pass derivative operator\n",
    "def Derivative_Operator_1D_PASS(PDoperator, gridgenerator, dvolumes_org):\n",
    "    \n",
    "    xvec = gridgenerator.xvec\n",
    "    n1order = PDoperator.n1order\n",
    "    PDoperator.nsize = getSize1D(n1order)\n",
    "    PDoperator.order = SetDiffOperators1D(PDoperator.nsize)\n",
    "    DiffAmat1D = [[0] * PDoperator.nsize] * PDoperator.nsize #Creating DiffAmat 2D matrix\n",
    "    DiffAmatInv1D = [[0] * PDoperator.nsize] * PDoperator.nsize #Creating DiffAmatInv 2D matrix\n",
    "    DiffBvec1D = [0] * PDoperator.nsize\n",
    "    DiffAvec1D = [0] * PDoperator.nsize\n",
    "    plist = [0] * PDoperator.nsize\n",
    "    blist = [0] * PDoperator.nsize\n",
    "    weight = [0] * PDoperator.nsize\n",
    "    rcvec = [0] * PDoperator.nsize\n",
    "    wgt = [0] * PDoperator.totnode_org\n",
    "    ndfam = [0] * PDoperator.totnode_org\n",
    "    \n",
    "   \n",
    "    nsize = PDoperator.nsize\n",
    "    \n",
    "    xvec_org = PDoperator.xvec_org\n",
    "    #Here is where we should calculate A matrix, inverse of A matrix and B vector; for every Peridynamic node.\n",
    "    \n",
    "    \n",
    "    #Generate node family\n",
    "    NodeFam = GenerateNodeFamily(xvec_org, xvec)\n",
    "\n",
    "    #Form A matrix\n",
    "    Amat = FormDiffAmat1D(nsize, xvec_org, xvec, dvolumes_org, NodeFam);    \n",
    "    #Form B vector\n",
    "        \n",
    "    #print(\"Interpolating for N=2\")\n",
    "    #for i in range(PDoperator.totnode):\n",
    "        #GenerateNodeFamily_0\n",
    "        \n",
    "    \n",
    "    return Amat\n",
    "    \n",
    "    "
   ]
  },
  {
   "cell_type": "code",
   "execution_count": 13,
   "metadata": {},
   "outputs": [
    {
     "name": "stdout",
     "output_type": "stream",
     "text": [
      "[0, 1, 2, 3, 4, 5, 6, 7, 8, 9]\n",
      "Total volume of output points         =  9.0\n",
      "Total volume of computed input points =  9.0\n",
      "          0.0225        0.0675       0.1125       0.1575       0.2025  \\\n",
      "0  159186.849743  17511.592245  6240.889050  3151.980383  1887.401112   \n",
      "1      84.348314     91.758739   100.281663   110.156287   121.690333   \n",
      "2      20.609972     21.365182    22.170978    23.032160    23.954123   \n",
      "3       9.090902      9.278328     9.473598     9.677181     9.889585   \n",
      "4       5.094367      5.159509     5.226587     5.295685     5.366891   \n",
      "5       3.253030      3.279531     3.306629     3.334346     3.362702   \n",
      "6       2.255649      2.267099     2.278753     2.290617     2.302697   \n",
      "7       1.655431      1.660222     1.665083     1.670015     1.675020   \n",
      "8       1.266418      1.268019     1.269639     1.271279     1.272939   \n",
      "9       1.000000      1.000000     1.000000     1.000000     1.000000   \n",
      "\n",
      "        0.2475      0.2925      0.3375      0.3825      0.4275  ...  \\\n",
      "0  1250.576671  886.201041  658.773874  507.571740  402.106152  ...   \n",
      "1   135.285134  151.472171  170.967444  194.754389  224.213877  ...   \n",
      "2    24.942943   26.005489   27.149552   28.383992   29.718927  ...   \n",
      "3    10.111353   10.343076   10.585392   10.838991   11.104625  ...   \n",
      "4     5.440297    5.516002    5.594110    5.674731    5.757982  ...   \n",
      "5     3.391719    3.421418    3.451824    3.482961    3.514855  ...   \n",
      "6     2.314999    2.327528    2.340291    2.353294    2.366545  ...   \n",
      "7     1.680099    1.685254    1.690487    1.695800    1.701193  ...   \n",
      "8     1.274620    1.276321    1.278043    1.279787    1.281552  ...   \n",
      "9     1.000000    1.000000    1.000000    1.000000    1.000000  ...   \n",
      "\n",
      "       8.5725      8.6175      8.6625      8.7075       8.7525       8.7975  \\\n",
      "0    1.000000    1.000000    1.000000    1.000000     1.000000     1.000000   \n",
      "1    1.281552    1.279787    1.278043    1.276321     1.274620     1.272939   \n",
      "2    1.701193    1.695800    1.690487    1.685254     1.680099     1.675020   \n",
      "3    2.366545    2.353294    2.340291    2.327528     2.314999     2.302697   \n",
      "4    3.514855    3.482961    3.451824    3.421418     3.391719     3.362702   \n",
      "5    5.757982    5.674731    5.594110    5.516002     5.440297     5.366891   \n",
      "6   11.104625   10.838991   10.585392   10.343076    10.111353     9.889585   \n",
      "7   29.718927   28.383992   27.149552   26.005489    24.942943    23.954123   \n",
      "8  224.213877  194.754389  170.967444  151.472171   135.285134   121.690333   \n",
      "9  402.106152  507.571740  658.773874  886.201041  1250.576671  1887.401112   \n",
      "\n",
      "        8.8425       8.8875        8.9325         8.9775  \n",
      "0     1.000000     1.000000      1.000000       1.000000  \n",
      "1     1.271279     1.269639      1.268019       1.266418  \n",
      "2     1.670015     1.665083      1.660222       1.655431  \n",
      "3     2.290617     2.278753      2.267099       2.255649  \n",
      "4     3.334346     3.306629      3.279531       3.253030  \n",
      "5     5.295685     5.226587      5.159509       5.094367  \n",
      "6     9.677181     9.473598      9.278328       9.090902  \n",
      "7    23.032160    22.170978     21.365182      20.609972  \n",
      "8   110.156287   100.281663     91.758739      84.348314  \n",
      "9  3151.980383  6240.889050  17511.592245  159186.849743  \n",
      "\n",
      "[10 rows x 200 columns]\n"
     ]
    }
   ],
   "source": [
    "#The PDoperator class constructor has the following inputs\n",
    "#PDoperator_name = PDoperator(number_input_points, xmin, xmax, output_points, \n",
    "#                             xvec_org, yvec_org)\n",
    "number_input_points = 10\n",
    "xmin = 0\n",
    "xmax = 9\n",
    "number_output_points = 200\n",
    "xvec_org = list(range(xmin,xmax+1))\n",
    "yvec_org = [2, 2, 2, 2, 2, 3.2, 3.2, 3.2, 3.2, 3.2]\n",
    "n1order = 2\n",
    "\n",
    "PDoperator = PDoperator_(number_input_points, xmin, xmax, number_output_points, \n",
    "                        xvec_org, yvec_org, n1order)\n",
    "\n",
    "#Generating the grid\n",
    "gridgenerator = GridGenerator(PDoperator)\n",
    "print(xvec_org)\n",
    "#Create lump volumes\n",
    "dvolumes_org = LumpVolumes(PDoperator, gridgenerator)\n",
    "#Calculating the 1D derivative operator\n",
    "h = Derivative_Operator_1D_PASS(PDoperator, gridgenerator,dvolumes_org)\n",
    "\n",
    "#for i in h:\n",
    "#        print(list(h[str(i)].sort_values()))\n",
    "\n",
    "#print(h['8.9775'])"
   ]
  },
  {
   "cell_type": "code",
   "execution_count": null,
   "metadata": {},
   "outputs": [],
   "source": []
  },
  {
   "cell_type": "code",
   "execution_count": 14,
   "metadata": {},
   "outputs": [],
   "source": [
    "#h.to_excel(\"output.xlsx\")"
   ]
  },
  {
   "cell_type": "code",
   "execution_count": 15,
   "metadata": {},
   "outputs": [
    {
     "name": "stdout",
     "output_type": "stream",
     "text": [
      "[[[ 9.00000000e+00  4.02975000e+01  2.42786974e+02]\n",
      "  [ 4.02975000e+01  2.42786974e+02  1.64546697e+03]\n",
      "  [ 2.42786974e+02  1.64546697e+03  1.19195173e+04]]\n",
      "\n",
      " [[ 9.00000000e+00  3.98925000e+01  2.39178424e+02]\n",
      "  [ 3.98925000e+01  2.39178424e+02  1.61293471e+03]\n",
      "  [ 2.39178424e+02  1.61293471e+03  1.16262685e+04]]\n",
      "\n",
      " [[ 9.00000000e+00  3.94875000e+01  2.35606324e+02]\n",
      "  [ 3.94875000e+01  2.35606324e+02  1.58088715e+03]\n",
      "  [ 2.35606324e+02  1.58088715e+03  1.13388318e+04]]\n",
      "\n",
      " ...\n",
      "\n",
      " [[ 9.00000000e+00 -3.94875000e+01  2.35606324e+02]\n",
      "  [-3.94875000e+01  2.35606324e+02 -1.58088715e+03]\n",
      "  [ 2.35606324e+02 -1.58088715e+03  1.13388318e+04]]\n",
      "\n",
      " [[ 9.00000000e+00 -3.98925000e+01  2.39178424e+02]\n",
      "  [-3.98925000e+01  2.39178424e+02 -1.61293471e+03]\n",
      "  [ 2.39178424e+02 -1.61293471e+03  1.16262685e+04]]\n",
      "\n",
      " [[ 9.00000000e+00 -4.02975000e+01  2.42786974e+02]\n",
      "  [-4.02975000e+01  2.42786974e+02 -1.64546697e+03]\n",
      "  [ 2.42786974e+02 -1.64546697e+03  1.19195173e+04]]]\n"
     ]
    }
   ],
   "source": [
    "print(h)"
   ]
  },
  {
   "cell_type": "code",
   "execution_count": 16,
   "metadata": {},
   "outputs": [
    {
     "name": "stdout",
     "output_type": "stream",
     "text": [
      "[0.0225, 0.0675, 0.1125, 0.1575, 0.2025, 0.2475, 0.2925, 0.3375, 0.3825, 0.4275, 0.4725, 0.5175, 0.5625, 0.6075, 0.6525, 0.6975, 0.7425, 0.7875, 0.8325, 0.8775, 0.9225, 0.9675, 1.0125, 1.0575, 1.1025, 1.1475, 1.1925, 1.2375, 1.2825, 1.3275, 1.3725, 1.4175, 1.4625, 1.5075, 1.5525, 1.5975, 1.6425, 1.6875, 1.7325, 1.7775, 1.8225, 1.8675, 1.9125, 1.9575, 2.0025, 2.0475, 2.0925, 2.1375, 2.1825, 2.2275, 2.2725, 2.3175, 2.3625, 2.4075, 2.4525, 2.4975, 2.5425, 2.5875, 2.6325, 2.6775, 2.7225, 2.7675, 2.8125, 2.8575, 2.9025, 2.9475, 2.9925, 3.0375, 3.0825, 3.1275, 3.1725, 3.2175, 3.2625, 3.3075, 3.3525, 3.3975, 3.4425, 3.4875, 3.5325, 3.5775, 3.6225, 3.6675, 3.7125, 3.7575, 3.8025, 3.8475, 3.8925, 3.9375, 3.9825, 4.0275, 4.0725, 4.1175, 4.1625, 4.2075, 4.2525, 4.2975, 4.3425, 4.3875, 4.4325, 4.4775, 4.5225, 4.5675, 4.6125, 4.6575, 4.7025, 4.7475, 4.7925, 4.8375, 4.8825, 4.9275, 4.9725, 5.0175, 5.0625, 5.1075, 5.1525, 5.1975, 5.2425, 5.2875, 5.3325, 5.3775, 5.4225, 5.4675, 5.5125, 5.5575, 5.6025, 5.6475, 5.6925, 5.7375, 5.7825, 5.8275, 5.8725, 5.9175, 5.9625, 6.0075, 6.0525, 6.0975, 6.1425, 6.1875, 6.2325, 6.2775, 6.3225, 6.3675, 6.4125, 6.4575, 6.5025, 6.5475, 6.5925, 6.6375, 6.6825, 6.7275, 6.7725, 6.8175, 6.8625, 6.9075, 6.9525, 6.9975, 7.0425, 7.0875, 7.1325, 7.1775, 7.2225, 7.2675, 7.3125, 7.3575, 7.4025, 7.4475, 7.4925, 7.5375, 7.5825, 7.6275, 7.6725, 7.7175, 7.7625, 7.8075, 7.8525, 7.8975, 7.9425, 7.9875, 8.0325, 8.0775, 8.1225, 8.1675, 8.2125, 8.2575, 8.3025, 8.3475, 8.3925, 8.4375, 8.4825, 8.5275, 8.5725, 8.6175, 8.6625, 8.7075, 8.7525, 8.7975, 8.8425, 8.8875, 8.9325, 8.9775]\n",
      "1.9775\n"
     ]
    }
   ],
   "source": [
    "print(gridgenerator.xvec)\n",
    "print(xvec_org[2]-gridgenerator.xvec[0])"
   ]
  },
  {
   "cell_type": "code",
   "execution_count": 17,
   "metadata": {},
   "outputs": [
    {
     "name": "stdout",
     "output_type": "stream",
     "text": [
      "Hello World\n"
     ]
    }
   ],
   "source": [
    "print('Hello World')"
   ]
  }
 ],
 "metadata": {
  "kernelspec": {
   "display_name": "Python 3",
   "language": "python",
   "name": "python3"
  },
  "language_info": {
   "codemirror_mode": {
    "name": "ipython",
    "version": 3
   },
   "file_extension": ".py",
   "mimetype": "text/x-python",
   "name": "python",
   "nbconvert_exporter": "python",
   "pygments_lexer": "ipython3",
   "version": "3.7.3"
  }
 },
 "nbformat": 4,
 "nbformat_minor": 2
}
